{
 "cells": [
  {
   "cell_type": "markdown",
   "metadata": {
    "toc": true
   },
   "source": [
    "<h1>Table of Contents<span class=\"tocSkip\"></span></h1>\n",
    "<div class=\"toc\"><ul class=\"toc-item\"><li><span><a href=\"#Basic-library-load\" data-toc-modified-id=\"Basic-library-load-1\"><span class=\"toc-item-num\">1&nbsp;&nbsp;</span>Basic library load</a></span></li><li><span><a href=\"#Initialize-the-chrome-driver\" data-toc-modified-id=\"Initialize-the-chrome-driver-2\"><span class=\"toc-item-num\">2&nbsp;&nbsp;</span>Initialize the chrome driver</a></span></li><li><span><a href=\"#Browse-the-Nasa-site-using-the-created-browser-instance\" data-toc-modified-id=\"Browse-the-Nasa-site-using-the-created-browser-instance-3\"><span class=\"toc-item-num\">3&nbsp;&nbsp;</span>Browse the Nasa site using the created browser instance</a></span></li></ul></div>"
   ]
  },
  {
   "cell_type": "markdown",
   "metadata": {},
   "source": [
    "## Basic library load"
   ]
  },
  {
   "cell_type": "code",
   "execution_count": 39,
   "metadata": {
    "ExecuteTime": {
     "end_time": "2020-06-03T01:52:19.061479Z",
     "start_time": "2020-06-03T01:52:19.057527Z"
    }
   },
   "outputs": [],
   "source": [
    "#dependencies\n",
    "from bs4 import BeautifulSoup as bs\n",
    "from splinter import Browser\n",
    "import requests\n",
    "import pandas as pd\n",
    "import re"
   ]
  },
  {
   "cell_type": "markdown",
   "metadata": {},
   "source": [
    "## Initialize the chrome driver "
   ]
  },
  {
   "cell_type": "code",
   "execution_count": 40,
   "metadata": {
    "ExecuteTime": {
     "end_time": "2020-06-03T01:52:23.493910Z",
     "start_time": "2020-06-03T01:52:22.389480Z"
    },
    "run_control": {
     "marked": true
    }
   },
   "outputs": [],
   "source": [
    "#choosing the executable path to driver\n",
    "executable_path ={'executable_path': 'C:/Users/212715347/specific_divers/chromedriver.exe'}\n",
    "browser = Browser('chrome', **executable_path, headless=False)\n",
    "#executable_path = {'executable_path': 'chromedriver.exe'}\n",
    "\n",
    "#browser = Browser('chrome', **executable_path, headless=False)"
   ]
  },
  {
   "cell_type": "markdown",
   "metadata": {},
   "source": [
    "## Browse the Nasa site using the created browser instance"
   ]
  },
  {
   "cell_type": "code",
   "execution_count": 41,
   "metadata": {
    "ExecuteTime": {
     "end_time": "2020-06-03T01:52:39.722363Z",
     "start_time": "2020-06-03T01:52:37.917785Z"
    },
    "scrolled": true
   },
   "outputs": [],
   "source": [
    "#scraping data from the NASA Mars News Site\n",
    "url = 'https://mars.nasa.gov/news/'\n",
    "response = requests.get(url)\n",
    "soup = bs(response.text,'html.parser')\n",
    "\n",
    "#examining results\n",
    "#print(soup.prettify())\n",
    "with open(\"file.html\", \"w\") as file:\n",
    "    file.write(soup.prettify())"
   ]
  },
  {
   "cell_type": "code",
   "execution_count": 44,
   "metadata": {
    "ExecuteTime": {
     "end_time": "2020-06-03T01:55:18.903334Z",
     "start_time": "2020-06-03T01:55:18.898346Z"
    }
   },
   "outputs": [
    {
     "name": "stdout",
     "output_type": "stream",
     "text": [
      "Alabama High School Student Names NASA's Mars Helicopter\n",
      "\n",
      "Vaneeza Rupani's essay was chosen as the name for the small spacecraft, which will mark NASA's first attempt at powered flight on another planet.\n"
     ]
    }
   ],
   "source": [
    "#collecting the latest news title and paragraph text\n",
    "news_title = soup.find('div', class_= \"content_title\").find('a').text.strip()\n",
    "news_parag = soup.find('div', class_= \"rollover_description_inner\").text.strip()\n",
    "\n",
    "#news_title = soup.find('div', class_= \"image_and_descriptiomntainer\")\n",
    "#news_parag = soup.find('div', class_= \"article_teaser_body\").text.strip()\n",
    "\n",
    "#yy = soup.find(\"span\", {\"class\": re.compile(\"^css-\")})\n",
    "#print(yy) \n",
    "\n",
    "#printing results\n",
    "print(news_title)\n",
    "print(\"\\n\"+news_parag)"
   ]
  },
  {
   "cell_type": "code",
   "execution_count": 45,
   "metadata": {
    "ExecuteTime": {
     "end_time": "2020-06-03T01:56:01.163083Z",
     "start_time": "2020-06-03T01:55:52.822001Z"
    }
   },
   "outputs": [],
   "source": [
    "#visiting the URL for the JPL Featured Space Image through splinter\n",
    "image_url = 'https://www.jpl.nasa.gov/spaceimages/?search=&category=Mars'\n",
    "browser.visit(image_url)"
   ]
  },
  {
   "cell_type": "code",
   "execution_count": 46,
   "metadata": {
    "ExecuteTime": {
     "end_time": "2020-06-03T01:56:28.025499Z",
     "start_time": "2020-06-03T01:56:27.958678Z"
    }
   },
   "outputs": [
    {
     "name": "stdout",
     "output_type": "stream",
     "text": [
      "https://www.jpl.nasa.gov/spaceimages/images/wallpaper/PIA19046-1920x1200.jpg\n"
     ]
    }
   ],
   "source": [
    "#creating HTML object and parsing\n",
    "html_image = browser.html\n",
    "soup = bs(html_image, 'html.parser')\n",
    "\n",
    "#retreieve the sub-url to the background image\n",
    "featured_image_sub_url = soup.find('div',class_='carousel_items')('article')[0]['style'].\\\n",
    "    replace('background-image: url(','').replace(');','')[1:-1]\n",
    "\n",
    "#main_url\n",
    "main_url = 'https://www.jpl.nasa.gov'\n",
    "\n",
    "#creating the full url \n",
    "featured_image_url = main_url + featured_image_sub_url\n",
    "\n",
    "#print results\n",
    "print(featured_image_url)"
   ]
  },
  {
   "cell_type": "code",
   "execution_count": null,
   "metadata": {
    "ExecuteTime": {
     "end_time": "2020-06-03T01:47:39.315027Z",
     "start_time": "2020-06-03T01:47:33.314Z"
    }
   },
   "outputs": [],
   "source": [
    "twitter_url = 'https://twitter.com/marswxreport?lang=en'\n",
    "#browser = Browser('chrome', **executable_path, headless=False)\n",
    "browser.visit(twitter_url)\n",
    "#time.sleep(2)\n",
    "html = browser.html\n",
    "soup = bs(html, 'lxml')\n",
    "#filepath = os.path.join(\"html\", \"twitter_mars.html\")\n",
    "#with open(filepath, 'wb') as file:\n",
    "#    file.write(soup.prettify('utf-8'))\n",
    "browser.quit()\n",
    "weathers = soup.find_all('div', class_='css-901oao r-jwli3a r-1qd0xha r-a023e6 r-16dba41 r-ad9z0x r-bcqeeo r-bnwqim r-qvutc0')\n",
    "current_weather = weathers[0].find('span', class_='css-901oao css-16my406 r-1qd0xha r-ad9z0x r-bcqeeo r-qvutc0' ).text\n",
    "print(current_weather)\n"
   ]
  },
  {
   "cell_type": "code",
   "execution_count": null,
   "metadata": {
    "ExecuteTime": {
     "end_time": "2020-05-30T22:55:46.233843Z",
     "start_time": "2020-05-30T22:55:46.037367Z"
    }
   },
   "outputs": [],
   "source": [
    "#visiting the URL for the Mars Weather Twitter Account with splinter\n",
    "tweet_url = 'https://twitter.com/marswxreport?lang=en'\n",
    "browser.visit(tweet_url)"
   ]
  },
  {
   "cell_type": "code",
   "execution_count": null,
   "metadata": {
    "ExecuteTime": {
     "end_time": "2020-05-30T23:07:50.333491Z",
     "start_time": "2020-05-30T23:07:50.216702Z"
    }
   },
   "outputs": [],
   "source": [
    "#creating HTML object and parsing\n",
    "html_weather = browser.html\n",
    "soup = bs(html_weather, 'html.parser')\n",
    "weather_bs = bs(html_weather,'html.parser')\n",
    "#print(weather_bs)\n",
    "mars_weather = weather_bs.find('div', attrs={'class':'js-tweet-text-container'}).find('p').text \n",
    "\n",
    "#mars_weather = soup.find('div', attrs={'class':'js-tweet-text-container'}).find('p').text \n",
    "\n",
    "#storing all the latest tweets\n",
    "last_tweets = soup.find_all('span', class_ ='js-tweet-text-container')\n",
    "print(last_tweets)\n",
    "#scanning for the first tweet with relevant weather data\n",
    "for tweet in last_tweets:\n",
    "    tweet_text = tweet.p.text\n",
    "    print(tweet_text)\n",
    "    #key weather terminology that should be relevant weather tweet\n",
    "    if 'Sol' and 'winds' and 'pressure' in tweet_text:\n",
    "        mars_weather = tweet_text\n",
    "        break\n",
    "    else:\n",
    "        pass\n",
    "    \n",
    "print(html_weather)"
   ]
  },
  {
   "cell_type": "code",
   "execution_count": null,
   "metadata": {
    "ExecuteTime": {
     "end_time": "2020-05-29T02:37:37.005413Z",
     "start_time": "2020-05-29T02:37:34.776301Z"
    }
   },
   "outputs": [],
   "source": [
    "#using splinter to view the space facts for mars\n",
    "facts_url = 'https://space-facts.com/mars/'\n",
    "browser.visit(facts_url)\n",
    "\n"
   ]
  },
  {
   "cell_type": "code",
   "execution_count": null,
   "metadata": {},
   "outputs": [],
   "source": [
    "#reading in the tables on the url\n",
    "tables = pd.read_html(facts_url)\n",
    "\n",
    "#checking to see if there are multiple tables\n",
    "type(tables)\n",
    "\n",
    "#the second table on the page contains our \"Mars Facts\"\n",
    "mars_facts_raw = tables[1]"
   ]
  },
  {
   "cell_type": "code",
   "execution_count": null,
   "metadata": {},
   "outputs": [],
   "source": [
    "#formatting data frame\n",
    "mars_facts=mars_facts_raw.rename(columns={0:'Fact',1:'Value'}).set_index('Fact').copy()\n",
    "\n",
    "#converting to html\n",
    "mars_facts_html = mars_facts.to_html()"
   ]
  },
  {
   "cell_type": "code",
   "execution_count": null,
   "metadata": {},
   "outputs": [],
   "source": [
    "#visiting the URL for the Mars Weather Twitter Account\n",
    "hemisph_url = 'https://astrogeology.usgs.gov/search/results?q=hemisphere+enhanced&k1=target&v1=Mars'\n",
    "browser.visit(hemisph_url)"
   ]
  },
  {
   "cell_type": "code",
   "execution_count": null,
   "metadata": {},
   "outputs": [],
   "source": [
    "#creating HTML object and parsing\n",
    "html_hemisph = browser.html\n",
    "soup = bs(html_hemisph, 'html.parser')\n",
    "\n",
    "# get all the info that contains the image links\n",
    "items = soup.find_all('div', class_='item')\n",
    "\n",
    "# Create empty list for hemisphere urls \n",
    "hemisphere_image_urls = []\n",
    "\n",
    "# Store the main_ul \n",
    "hemispheres_main_url = 'https://astrogeology.usgs.gov'\n",
    "\n",
    "#for all the info containing the image links\n",
    "for i in items: \n",
    "    # Storing the title\n",
    "    title = i.find('h3').text\n",
    "    \n",
    "    # Storing the url that has full image url\n",
    "    partial_img_url = i.find('a', class_='itemLink product-item')['href']\n",
    "    \n",
    "    # going to the storage url\n",
    "    browser.visit(hemispheres_main_url + partial_img_url)\n",
    "    \n",
    "    # HTML Object for full image url storage website\n",
    "    partial_img_html = browser.html\n",
    "    \n",
    "    # Parsing HTML for that specific website\n",
    "    soup = bs( partial_img_html, 'html.parser')\n",
    "    \n",
    "    # getting full image url \n",
    "    img_url = hemispheres_main_url + soup.find('img', class_='wide-image')['src']\n",
    "    \n",
    "    # Adding to dictionary\n",
    "    hemisphere_image_urls.append({\"title\" : title, \"img_url\" : img_url})\n",
    "    \n",
    "\n",
    "# Display hemisphere_image_urls\n",
    "hemisphere_image_urls"
   ]
  },
  {
   "cell_type": "code",
   "execution_count": null,
   "metadata": {},
   "outputs": [],
   "source": [
    "mars_data = {\n",
    "        \"Mars_News_Title\": news_title,\n",
    "        \"Mars_News_Paragraph\": news_parag,\n",
    "        \"Mars_Featured_Image\": featured_image_url,\n",
    "        \"Mars_Weather_Data\": mars_weather,\n",
    "        \"Mars_Facts\": mars_facts_html,\n",
    "        \"Mars_Hemisphere_Images\": hemisphere_image_urls\n",
    "    }"
   ]
  },
  {
   "cell_type": "code",
   "execution_count": null,
   "metadata": {},
   "outputs": [],
   "source": []
  },
  {
   "cell_type": "code",
   "execution_count": null,
   "metadata": {},
   "outputs": [],
   "source": []
  }
 ],
 "metadata": {
  "hide_input": false,
  "kernelspec": {
   "display_name": "Python 3",
   "language": "python",
   "name": "python3"
  },
  "language_info": {
   "codemirror_mode": {
    "name": "ipython",
    "version": 3
   },
   "file_extension": ".py",
   "mimetype": "text/x-python",
   "name": "python",
   "nbconvert_exporter": "python",
   "pygments_lexer": "ipython3",
   "version": "3.8.2"
  },
  "latex_envs": {
   "LaTeX_envs_menu_present": true,
   "autoclose": false,
   "autocomplete": true,
   "bibliofile": "biblio.bib",
   "cite_by": "apalike",
   "current_citInitial": 1,
   "eqLabelWithNumbers": true,
   "eqNumInitial": 1,
   "hotkeys": {
    "equation": "Ctrl-E",
    "itemize": "Ctrl-I"
   },
   "labels_anchors": false,
   "latex_user_defs": false,
   "report_style_numbering": false,
   "user_envs_cfg": false
  },
  "nbTranslate": {
   "displayLangs": [
    "*"
   ],
   "hotkey": "alt-t",
   "langInMainMenu": true,
   "sourceLang": "en",
   "targetLang": "fr",
   "useGoogleTranslate": true
  },
  "toc": {
   "base_numbering": 1,
   "nav_menu": {},
   "number_sections": true,
   "sideBar": true,
   "skip_h1_title": true,
   "title_cell": "Table of Contents",
   "title_sidebar": "Contents",
   "toc_cell": true,
   "toc_position": {
    "height": "calc(100% - 180px)",
    "left": "10px",
    "top": "150px",
    "width": "279.273px"
   },
   "toc_section_display": true,
   "toc_window_display": true
  },
  "varInspector": {
   "cols": {
    "lenName": 16,
    "lenType": 16,
    "lenVar": 40
   },
   "kernels_config": {
    "python": {
     "delete_cmd_postfix": "",
     "delete_cmd_prefix": "del ",
     "library": "var_list.py",
     "varRefreshCmd": "print(var_dic_list())"
    },
    "r": {
     "delete_cmd_postfix": ") ",
     "delete_cmd_prefix": "rm(",
     "library": "var_list.r",
     "varRefreshCmd": "cat(var_dic_list()) "
    }
   },
   "types_to_exclude": [
    "module",
    "function",
    "builtin_function_or_method",
    "instance",
    "_Feature"
   ],
   "window_display": false
  }
 },
 "nbformat": 4,
 "nbformat_minor": 2
}
